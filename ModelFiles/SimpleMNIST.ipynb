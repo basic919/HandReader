{
  "nbformat": 4,
  "nbformat_minor": 0,
  "metadata": {
    "colab": {
      "provenance": []
    },
    "kernelspec": {
      "name": "python3",
      "display_name": "Python 3"
    },
    "language_info": {
      "name": "python"
    }
  },
  "cells": [
    {
      "cell_type": "code",
      "execution_count": null,
      "metadata": {
        "colab": {
          "base_uri": "https://localhost:8080/"
        },
        "id": "h2SeZ2JOY5B1",
        "outputId": "13650bf5-6bd2-4bb5-c3e3-c04b939660a4"
      },
      "outputs": [
        {
          "output_type": "stream",
          "name": "stdout",
          "text": [
            "Downloading data from https://storage.googleapis.com/tensorflow/tf-keras-datasets/mnist.npz\n",
            "11490434/11490434 [==============================] - 0s 0us/step\n"
          ]
        }
      ],
      "source": [
        "import keras\n",
        "from keras.datasets import mnist\n",
        "\n",
        "(X_train, y_train), (X_test, y_test) = mnist.load_data()"
      ]
    },
    {
      "cell_type": "code",
      "source": [
        "import keras.backend as k\n",
        "\n",
        "\n",
        "img_rows = img_cols = 28\n",
        "\n",
        "#reshaping\n",
        "#this assumes our data format\n",
        "#For 3D data, \"channels_last\" assumes (conv_dim1, conv_dim2, conv_dim3, channels) while \n",
        "#\"channels_first\" assumes (channels, conv_dim1, conv_dim2, conv_dim3).\n",
        "if k.image_data_format() == 'channels_first':\n",
        "    X_train = X_train.reshape(X_train.shape[0], 1, img_rows, img_cols)\n",
        "    X_test = X_test.reshape(X_test.shape[0], 1, img_rows, img_cols)\n",
        "    input_shape = (1, img_rows, img_cols)\n",
        "else:\n",
        "    X_train = X_train.reshape(X_train.shape[0], img_rows, img_cols, 1)\n",
        "    X_test = X_test.reshape(X_test.shape[0], img_rows, img_cols, 1)\n",
        "    input_shape = (img_rows, img_cols, 1)\n",
        "#more reshaping\n",
        "X_train = X_train.astype('float32')\n",
        "X_test = X_test.astype('float32')\n",
        "X_train /= 255\n",
        "X_test /= 255\n",
        "print('X_train shape:', X_train.shape) #X_train shape: (60000, 28, 28, 1)"
      ],
      "metadata": {
        "colab": {
          "base_uri": "https://localhost:8080/"
        },
        "id": "BpzW2AszZDMm",
        "outputId": "286f3f48-5b2a-480f-9755-7bb6c117228d"
      },
      "execution_count": null,
      "outputs": [
        {
          "output_type": "stream",
          "name": "stdout",
          "text": [
            "X_train shape: (60000, 28, 28, 1)\n"
          ]
        }
      ]
    },
    {
      "cell_type": "code",
      "source": [
        "#set number of categories\n",
        "num_category = 10\n",
        "# convert class vectors to binary class matrices\n",
        "y_train = keras.utils.to_categorical(y_train, num_category)\n",
        "y_test = keras.utils.to_categorical(y_test, num_category)"
      ],
      "metadata": {
        "id": "hhaEUqx2ZDPk"
      },
      "execution_count": null,
      "outputs": []
    },
    {
      "cell_type": "code",
      "source": [
        "from keras import Sequential\n",
        "from keras.layers import Conv2D, MaxPooling2D, Dropout, Flatten, Dense\n",
        "\n",
        "##model building\n",
        "model = Sequential()\n",
        "#convolutional layer with rectified linear unit activation\n",
        "model.add(Conv2D(32, kernel_size=(3, 3),\n",
        "                 activation='relu',\n",
        "                 input_shape=input_shape))\n",
        "#32 convolution filters used each of size 3x3\n",
        "#again\n",
        "model.add(Conv2D(64, (3, 3), activation='relu'))\n",
        "#64 convolution filters used each of size 3x3\n",
        "#choose the best features via pooling\n",
        "model.add(MaxPooling2D(pool_size=(2, 2)))\n",
        "#randomly turn neurons on and off to improve convergence\n",
        "model.add(Dropout(0.25))\n",
        "\n",
        "#again\n",
        "model.add(Conv2D(64, (3, 3), activation='relu'))\n",
        "#64 convolution filters used each of size 3x3\n",
        "#choose the best features via pooling\n",
        "model.add(MaxPooling2D(pool_size=(2, 2)))\n",
        "#randomly turn neurons on and off to improve convergence\n",
        "model.add(Dropout(0.25))\n",
        "\n",
        "#flatten since too many dimensions, we only want a classification output\n",
        "model.add(Flatten())\n",
        "#fully connected to get all relevant data\n",
        "model.add(Dense(128, activation='relu'))\n",
        "#one more dropout for convergence' sake :) \n",
        "model.add(Dropout(0.5))\n",
        "#output a softmax to squash the matrix into output probabilities\n",
        "model.add(Dense(num_category, activation='softmax'))"
      ],
      "metadata": {
        "id": "hUpPBeKyZDR-"
      },
      "execution_count": null,
      "outputs": []
    },
    {
      "cell_type": "code",
      "source": [
        "#Adaptive learning rate (adaDelta) is a popular form of gradient descent rivaled only by adam and adagrad\n",
        "#categorical ce since we have multiple classes (10) \n",
        "model.compile(loss=keras.losses.categorical_crossentropy,\n",
        "              optimizer=keras.optimizers.Adam(),\n",
        "              metrics=['accuracy'])"
      ],
      "metadata": {
        "id": "t8Eu1XpDZDUQ"
      },
      "execution_count": null,
      "outputs": []
    },
    {
      "cell_type": "code",
      "source": [
        "model_digit_json = model.to_json()\n",
        "with open(r\"drive/MyDrive/Faks/SimpleMNIST/autosaves/model_digit.json\", \"w\") as json_file:\n",
        "    json_file.write(model_digit_json)"
      ],
      "metadata": {
        "id": "W0su-aE8DK-b"
      },
      "execution_count": null,
      "outputs": []
    },
    {
      "cell_type": "code",
      "source": [
        "from keras.callbacks import EarlyStopping, ModelCheckpoint\n",
        "\n",
        "\n",
        "batch_size = 256\n",
        "num_epoch = 50\n",
        "\n",
        "earlystopper = EarlyStopping(patience=6, verbose=1)\n",
        "checkpointer = ModelCheckpoint(r'drive/MyDrive/Faks/SimpleMNIST/autosaves/hand_reader_model_autosave.h5', verbose=1, save_best_only=True)\n",
        "\n",
        "#model training\n",
        "model_log = model.fit(X_train, y_train,\n",
        "          batch_size=batch_size,\n",
        "          epochs=num_epoch,\n",
        "          verbose=1,\n",
        "          validation_data=(X_test, y_test),\n",
        "          callbacks=[earlystopper, checkpointer])"
      ],
      "metadata": {
        "colab": {
          "base_uri": "https://localhost:8080/"
        },
        "id": "_ln4G4ZkZDWZ",
        "outputId": "c00982e6-3111-418a-bb75-797cce0ac7fb"
      },
      "execution_count": null,
      "outputs": [
        {
          "output_type": "stream",
          "name": "stdout",
          "text": [
            "Epoch 1/50\n",
            "235/235 [==============================] - ETA: 0s - loss: 0.3726 - accuracy: 0.8820\n",
            "Epoch 1: val_loss improved from inf to 0.05646, saving model to drive/MyDrive/Faks/SimpleMNIST/autosaves/hand_reader_model_autosave.h5\n",
            "235/235 [==============================] - 234s 994ms/step - loss: 0.3726 - accuracy: 0.8820 - val_loss: 0.0565 - val_accuracy: 0.9809\n",
            "Epoch 2/50\n",
            "235/235 [==============================] - ETA: 0s - loss: 0.1052 - accuracy: 0.9686\n",
            "Epoch 2: val_loss improved from 0.05646 to 0.03557, saving model to drive/MyDrive/Faks/SimpleMNIST/autosaves/hand_reader_model_autosave.h5\n",
            "235/235 [==============================] - 229s 977ms/step - loss: 0.1052 - accuracy: 0.9686 - val_loss: 0.0356 - val_accuracy: 0.9881\n",
            "Epoch 3/50\n",
            "235/235 [==============================] - ETA: 0s - loss: 0.0730 - accuracy: 0.9784\n",
            "Epoch 3: val_loss improved from 0.03557 to 0.02920, saving model to drive/MyDrive/Faks/SimpleMNIST/autosaves/hand_reader_model_autosave.h5\n",
            "235/235 [==============================] - 231s 985ms/step - loss: 0.0730 - accuracy: 0.9784 - val_loss: 0.0292 - val_accuracy: 0.9909\n",
            "Epoch 4/50\n",
            "235/235 [==============================] - ETA: 0s - loss: 0.0623 - accuracy: 0.9808\n",
            "Epoch 4: val_loss improved from 0.02920 to 0.02660, saving model to drive/MyDrive/Faks/SimpleMNIST/autosaves/hand_reader_model_autosave.h5\n",
            "235/235 [==============================] - 229s 977ms/step - loss: 0.0623 - accuracy: 0.9808 - val_loss: 0.0266 - val_accuracy: 0.9910\n",
            "Epoch 5/50\n",
            "235/235 [==============================] - ETA: 0s - loss: 0.0533 - accuracy: 0.9843\n",
            "Epoch 5: val_loss improved from 0.02660 to 0.02197, saving model to drive/MyDrive/Faks/SimpleMNIST/autosaves/hand_reader_model_autosave.h5\n",
            "235/235 [==============================] - 227s 967ms/step - loss: 0.0533 - accuracy: 0.9843 - val_loss: 0.0220 - val_accuracy: 0.9926\n",
            "Epoch 6/50\n",
            "235/235 [==============================] - ETA: 0s - loss: 0.0452 - accuracy: 0.9861\n",
            "Epoch 6: val_loss improved from 0.02197 to 0.02038, saving model to drive/MyDrive/Faks/SimpleMNIST/autosaves/hand_reader_model_autosave.h5\n",
            "235/235 [==============================] - 234s 992ms/step - loss: 0.0452 - accuracy: 0.9861 - val_loss: 0.0204 - val_accuracy: 0.9930\n",
            "Epoch 7/50\n",
            "235/235 [==============================] - ETA: 0s - loss: 0.0421 - accuracy: 0.9869\n",
            "Epoch 7: val_loss improved from 0.02038 to 0.01928, saving model to drive/MyDrive/Faks/SimpleMNIST/autosaves/hand_reader_model_autosave.h5\n",
            "235/235 [==============================] - 231s 982ms/step - loss: 0.0421 - accuracy: 0.9869 - val_loss: 0.0193 - val_accuracy: 0.9934\n",
            "Epoch 8/50\n",
            "235/235 [==============================] - ETA: 0s - loss: 0.0395 - accuracy: 0.9879\n",
            "Epoch 8: val_loss improved from 0.01928 to 0.01922, saving model to drive/MyDrive/Faks/SimpleMNIST/autosaves/hand_reader_model_autosave.h5\n",
            "235/235 [==============================] - 229s 976ms/step - loss: 0.0395 - accuracy: 0.9879 - val_loss: 0.0192 - val_accuracy: 0.9931\n",
            "Epoch 9/50\n",
            "235/235 [==============================] - ETA: 0s - loss: 0.0366 - accuracy: 0.9887\n",
            "Epoch 9: val_loss improved from 0.01922 to 0.01888, saving model to drive/MyDrive/Faks/SimpleMNIST/autosaves/hand_reader_model_autosave.h5\n",
            "235/235 [==============================] - 230s 979ms/step - loss: 0.0366 - accuracy: 0.9887 - val_loss: 0.0189 - val_accuracy: 0.9935\n",
            "Epoch 10/50\n",
            "235/235 [==============================] - ETA: 0s - loss: 0.0323 - accuracy: 0.9902\n",
            "Epoch 10: val_loss improved from 0.01888 to 0.01638, saving model to drive/MyDrive/Faks/SimpleMNIST/autosaves/hand_reader_model_autosave.h5\n",
            "235/235 [==============================] - 231s 985ms/step - loss: 0.0323 - accuracy: 0.9902 - val_loss: 0.0164 - val_accuracy: 0.9943\n",
            "Epoch 11/50\n",
            "235/235 [==============================] - ETA: 0s - loss: 0.0306 - accuracy: 0.9906\n",
            "Epoch 11: val_loss did not improve from 0.01638\n",
            "235/235 [==============================] - 230s 977ms/step - loss: 0.0306 - accuracy: 0.9906 - val_loss: 0.0194 - val_accuracy: 0.9925\n",
            "Epoch 12/50\n",
            "235/235 [==============================] - ETA: 0s - loss: 0.0307 - accuracy: 0.9910\n",
            "Epoch 12: val_loss improved from 0.01638 to 0.01562, saving model to drive/MyDrive/Faks/SimpleMNIST/autosaves/hand_reader_model_autosave.h5\n",
            "235/235 [==============================] - 231s 982ms/step - loss: 0.0307 - accuracy: 0.9910 - val_loss: 0.0156 - val_accuracy: 0.9944\n",
            "Epoch 13/50\n",
            "235/235 [==============================] - ETA: 0s - loss: 0.0260 - accuracy: 0.9917\n",
            "Epoch 13: val_loss did not improve from 0.01562\n",
            "235/235 [==============================] - 233s 993ms/step - loss: 0.0260 - accuracy: 0.9917 - val_loss: 0.0178 - val_accuracy: 0.9938\n",
            "Epoch 14/50\n",
            "235/235 [==============================] - ETA: 0s - loss: 0.0258 - accuracy: 0.9921\n",
            "Epoch 14: val_loss improved from 0.01562 to 0.01528, saving model to drive/MyDrive/Faks/SimpleMNIST/autosaves/hand_reader_model_autosave.h5\n",
            "235/235 [==============================] - 233s 990ms/step - loss: 0.0258 - accuracy: 0.9921 - val_loss: 0.0153 - val_accuracy: 0.9945\n",
            "Epoch 15/50\n",
            "235/235 [==============================] - ETA: 0s - loss: 0.0241 - accuracy: 0.9923\n",
            "Epoch 15: val_loss did not improve from 0.01528\n",
            "235/235 [==============================] - 229s 976ms/step - loss: 0.0241 - accuracy: 0.9923 - val_loss: 0.0185 - val_accuracy: 0.9940\n",
            "Epoch 16/50\n",
            "235/235 [==============================] - ETA: 0s - loss: 0.0241 - accuracy: 0.9923\n",
            "Epoch 16: val_loss did not improve from 0.01528\n",
            "235/235 [==============================] - 229s 974ms/step - loss: 0.0241 - accuracy: 0.9923 - val_loss: 0.0167 - val_accuracy: 0.9955\n",
            "Epoch 17/50\n",
            "235/235 [==============================] - ETA: 0s - loss: 0.0242 - accuracy: 0.9923\n",
            "Epoch 17: val_loss did not improve from 0.01528\n",
            "235/235 [==============================] - 229s 977ms/step - loss: 0.0242 - accuracy: 0.9923 - val_loss: 0.0203 - val_accuracy: 0.9935\n",
            "Epoch 18/50\n",
            "235/235 [==============================] - ETA: 0s - loss: 0.0211 - accuracy: 0.9934\n",
            "Epoch 18: val_loss improved from 0.01528 to 0.01475, saving model to drive/MyDrive/Faks/SimpleMNIST/autosaves/hand_reader_model_autosave.h5\n",
            "235/235 [==============================] - 234s 998ms/step - loss: 0.0211 - accuracy: 0.9934 - val_loss: 0.0147 - val_accuracy: 0.9955\n",
            "Epoch 19/50\n",
            "235/235 [==============================] - ETA: 0s - loss: 0.0196 - accuracy: 0.9937\n",
            "Epoch 19: val_loss did not improve from 0.01475\n",
            "235/235 [==============================] - 227s 968ms/step - loss: 0.0196 - accuracy: 0.9937 - val_loss: 0.0160 - val_accuracy: 0.9947\n",
            "Epoch 20/50\n",
            "235/235 [==============================] - ETA: 0s - loss: 0.0217 - accuracy: 0.9934\n",
            "Epoch 20: val_loss did not improve from 0.01475\n",
            "235/235 [==============================] - 228s 971ms/step - loss: 0.0217 - accuracy: 0.9934 - val_loss: 0.0172 - val_accuracy: 0.9941\n",
            "Epoch 21/50\n",
            "235/235 [==============================] - ETA: 0s - loss: 0.0193 - accuracy: 0.9939\n",
            "Epoch 21: val_loss improved from 0.01475 to 0.01450, saving model to drive/MyDrive/Faks/SimpleMNIST/autosaves/hand_reader_model_autosave.h5\n",
            "235/235 [==============================] - 230s 981ms/step - loss: 0.0193 - accuracy: 0.9939 - val_loss: 0.0145 - val_accuracy: 0.9958\n",
            "Epoch 22/50\n",
            "235/235 [==============================] - ETA: 0s - loss: 0.0190 - accuracy: 0.9940\n",
            "Epoch 22: val_loss did not improve from 0.01450\n",
            "235/235 [==============================] - 233s 988ms/step - loss: 0.0190 - accuracy: 0.9940 - val_loss: 0.0154 - val_accuracy: 0.9952\n",
            "Epoch 23/50\n",
            "235/235 [==============================] - ETA: 0s - loss: 0.0191 - accuracy: 0.9936\n",
            "Epoch 23: val_loss did not improve from 0.01450\n",
            "235/235 [==============================] - 229s 971ms/step - loss: 0.0191 - accuracy: 0.9936 - val_loss: 0.0150 - val_accuracy: 0.9957\n",
            "Epoch 24/50\n",
            "235/235 [==============================] - ETA: 0s - loss: 0.0161 - accuracy: 0.9950\n",
            "Epoch 24: val_loss did not improve from 0.01450\n",
            "235/235 [==============================] - 227s 968ms/step - loss: 0.0161 - accuracy: 0.9950 - val_loss: 0.0168 - val_accuracy: 0.9945\n",
            "Epoch 25/50\n",
            "235/235 [==============================] - ETA: 0s - loss: 0.0164 - accuracy: 0.9942\n",
            "Epoch 25: val_loss did not improve from 0.01450\n",
            "235/235 [==============================] - 228s 970ms/step - loss: 0.0164 - accuracy: 0.9942 - val_loss: 0.0182 - val_accuracy: 0.9949\n",
            "Epoch 26/50\n",
            "235/235 [==============================] - ETA: 0s - loss: 0.0163 - accuracy: 0.9948\n",
            "Epoch 26: val_loss did not improve from 0.01450\n",
            "235/235 [==============================] - 229s 973ms/step - loss: 0.0163 - accuracy: 0.9948 - val_loss: 0.0169 - val_accuracy: 0.9949\n",
            "Epoch 27/50\n",
            "235/235 [==============================] - ETA: 0s - loss: 0.0161 - accuracy: 0.9946\n",
            "Epoch 27: val_loss did not improve from 0.01450\n",
            "235/235 [==============================] - 227s 967ms/step - loss: 0.0161 - accuracy: 0.9946 - val_loss: 0.0162 - val_accuracy: 0.9951\n",
            "Epoch 27: early stopping\n"
          ]
        }
      ]
    },
    {
      "cell_type": "code",
      "source": [
        "import os\n",
        "# plotting the metrics\n",
        "fig = plt.figure()\n",
        "plt.subplot(2,1,1)\n",
        "plt.plot(model_log.history['accuracy'])\n",
        "plt.plot(model_log.history['val_accuracy'])\n",
        "plt.title('model accuracy')\n",
        "plt.ylabel('accuracy')\n",
        "plt.xlabel('epoch')\n",
        "plt.legend(['train', 'test'], loc='lower right')\n",
        "plt.subplot(2,1,2)\n",
        "plt.plot(model_log.history['loss'])\n",
        "plt.plot(model_log.history['val_loss'])\n",
        "plt.title('model loss')\n",
        "plt.ylabel('loss')\n",
        "plt.xlabel('epoch')\n",
        "plt.legend(['train', 'test'], loc='upper right')\n",
        "plt.tight_layout()\n",
        "fig"
      ],
      "metadata": {
        "colab": {
          "base_uri": "https://localhost:8080/",
          "height": 577
        },
        "id": "of9uF787ZSrb",
        "outputId": "620aa83d-684a-4814-eebe-e7a5ee1a4b96"
      },
      "execution_count": null,
      "outputs": [
        {
          "output_type": "execute_result",
          "data": {
            "text/plain": [
              "<Figure size 432x288 with 2 Axes>"
            ],
            "image/png": "[encoded data removed]"
          },
          "metadata": {},
          "execution_count": 21
        },
        {
          "output_type": "display_data",
          "data": {
            "text/plain": [
              "<Figure size 432x288 with 2 Axes>"
            ],
            "image/png": "[encoded data removed]"
          },
          "metadata": {
            "needs_background": "light"
          }
        }
      ]
    },
    {
      "cell_type": "code",
      "source": [
        "#Save the model\n",
        "# serialize model to JSON\n",
        "model_digit_json = model.to_json()\n",
        "with open(\"model_digit.json\", \"w\") as json_file:\n",
        "    json_file.write(model_digit_json)\n",
        "# serialize weights to HDF5\n",
        "model.save_weights(\"model_digit.h5\")\n",
        "print(\"Saved model to disk\")"
      ],
      "metadata": {
        "colab": {
          "base_uri": "https://localhost:8080/"
        },
        "id": "cvHkVH48ZSt-",
        "outputId": "73a71823-82a6-4029-b4b8-9aefde23b467"
      },
      "execution_count": null,
      "outputs": [
        {
          "output_type": "stream",
          "name": "stdout",
          "text": [
            "Saved model to disk\n"
          ]
        }
      ]
    }
  ]
}